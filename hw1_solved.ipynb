{
 "cells": [
  {
   "cell_type": "code",
   "execution_count": 5,
   "metadata": {},
   "outputs": [
    {
     "name": "stdout",
     "output_type": "stream",
     "text": [
      "\tWelcome to 'Guess My Number'!\n",
      "\tI'm thinking of a number between 1 and 100.\n",
      "\tTry to guess it in as few attempts as possible.\n",
      "\n",
      "Lower ...\n",
      "Lower ...\n",
      "Higher...\n",
      "Lower ...\n",
      "Lower ...\n",
      "You guessed it! The number was 14\n",
      "And it only took you 6 tries!\n",
      "\n",
      "\n",
      "\n",
      "Press the enter key to exit.\n"
     ]
    }
   ],
   "source": [
    "import random\n",
    "\n",
    "def print_header():\n",
    "    print(\"\\tWelcome to 'Guess My Number'!\")\n",
    "    print(\"\\tI'm thinking of a number between 1 and 100.\")\n",
    "    print(\"\\tTry to guess it in as few attempts as possible.\\n\")\n",
    "\n",
    "\n",
    "def print_footer(the_number, tries):\n",
    "    print(\"You guessed it! The number was\", the_number)\n",
    "    print(\"And it only took you\", tries, \"tries!\\n\")\n",
    "    print(\"\\n\\nPress the enter key to exit.\")    \n",
    "    \n",
    "def main():\n",
    "    # print the greeting banner\n",
    "    print_header()\n",
    "    \n",
    "    # set the initial values\n",
    "    the_number = random.randint(1, 100)\n",
    "    guess = int(input(\"Take a guess: \"))\n",
    "    tries = 1\n",
    "    \n",
    "    # the game loop\n",
    "    while guess != the_number:\n",
    "        if guess > the_number:\n",
    "            print(\"Lower ...\")\n",
    "        else:\n",
    "            print(\"Higher...\")\n",
    "            \n",
    "        guess = int(input(\"Take another guess: \"))\n",
    "        tries += 1\n",
    "        \n",
    "    print_footer(the_number, tries)\n",
    "    \n",
    "    \n",
    "if __name__ == \"__main__\":\n",
    "    main()"
   ]
  },
  {
   "cell_type": "code",
   "execution_count": 4,
   "metadata": {},
   "outputs": [
    {
     "name": "stdout",
     "output_type": "stream",
     "text": [
      "\tWelcome to 'Guess My Number'!\n",
      "\tI'm thinking of a number between 1 and 100.\n",
      "\tTry to guess it in as few attempts as possible.\n",
      "\n",
      "50.0\n",
      "Higher...\n",
      "75.0\n",
      "Lower...\n",
      "62.0\n",
      "Lower...\n",
      "56.0\n",
      "Higher...\n",
      "59.0\n",
      "Higher...\n",
      "61.0\n",
      "Lower...\n",
      "You guessed it! The number was 60\n",
      "And it only took you 7 tries!\n",
      "\n",
      "\n",
      "\n",
      "Press the enter key to exit.\n"
     ]
    }
   ],
   "source": [
    "import numpy as np\n",
    "\n",
    "def print_header():\n",
    "    print(\"\\tWelcome to 'Guess My Number'!\")\n",
    "    print(\"\\tI'm thinking of a number between 1 and 100.\")\n",
    "    print(\"\\tTry to guess it in as few attempts as possible.\\n\")\n",
    "\n",
    "\n",
    "def print_footer(the_number, tries):\n",
    "    print(\"You guessed it! The number was\", the_number)\n",
    "    print(\"And it only took you\", tries, \"tries!\\n\")\n",
    "    print(\"\\n\\nPress the enter key to exit.\")\n",
    "    \n",
    "def main():\n",
    "    #introduction\n",
    "    print_header()\n",
    "    \n",
    "    #set initial values\n",
    "    the_number = int(input(\"The number is: \"))\n",
    "    tries = 1\n",
    "    upper = 100\n",
    "    lower = 1\n",
    "    guess = 0.5 * upper\n",
    "    \n",
    "    #the game loop\n",
    "    while the_number != guess:\n",
    "        print(guess)\n",
    "        if guess > the_number:\n",
    "            print(\"Lower...\")\n",
    "            upper = guess\n",
    "            guess = np.floor((guess + lower) / 2)\n",
    "        else:\n",
    "            print(\"Higher...\")\n",
    "            lower = guess\n",
    "            guess = np.ceil((guess + upper) / 2)\n",
    "        tries += 1\n",
    "    \n",
    "    #conclusion\n",
    "    print_footer(the_number, tries)\n",
    "\n",
    "if __name__ == \"__main__\":\n",
    "    main()"
   ]
  },
  {
   "cell_type": "code",
   "execution_count": 1,
   "metadata": {},
   "outputs": [
    {
     "name": "stdout",
     "output_type": "stream",
     "text": [
      "The largest size that you cannot get is: 43\n"
     ]
    }
   ],
   "source": [
    "def is_nugget_number(candidate, SIX = 6, NINE = 9, TWENTY = 20):\n",
    "    for i in range(candidate//SIX + 1):\n",
    "        for j in range(candidate//NINE + 1):\n",
    "            for k in range(candidate//TWENTY + 1):\n",
    "                if(candidate == i * SIX + j * NINE + k * TWENTY):\n",
    "                    return True\n",
    "    \n",
    "    return False\n",
    "\n",
    "\n",
    "## main\n",
    "sizes = {'S' : 6, 'M' : 9, 'L': 20}\n",
    "SIX = 6\n",
    "count = 0\n",
    "largest = 0\n",
    "candidate = SIX\n",
    "\n",
    "while count < SIX:\n",
    "    if(is_nugget_number(candidate)):\n",
    "        count += 1\n",
    "    else:\n",
    "        largest = candidate\n",
    "        count = 0\n",
    "    candidate += 1\n",
    "        \n",
    "print(\"The largest size that you cannot get is: {0}\".format(largest))"
   ]
  },
  {
   "cell_type": "code",
   "execution_count": null,
   "metadata": {},
   "outputs": [],
   "source": []
  }
 ],
 "metadata": {
  "kernelspec": {
   "display_name": "Python 3",
   "language": "python",
   "name": "python3"
  },
  "language_info": {
   "codemirror_mode": {
    "name": "ipython",
    "version": 3
   },
   "file_extension": ".py",
   "mimetype": "text/x-python",
   "name": "python",
   "nbconvert_exporter": "python",
   "pygments_lexer": "ipython3",
   "version": "3.6.5"
  }
 },
 "nbformat": 4,
 "nbformat_minor": 2
}
