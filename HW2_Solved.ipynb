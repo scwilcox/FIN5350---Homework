{
 "cells": [
  {
   "cell_type": "markdown",
   "metadata": {},
   "source": [
    "#### Scott Wilcox\n",
    "#### A01810798\n",
    "#### FIN 5350\n",
    "#### Homework 2\n",
    "\n",
    "### Binomial Option Pricing Model"
   ]
  },
  {
   "cell_type": "code",
   "execution_count": 55,
   "metadata": {},
   "outputs": [],
   "source": [
    "#import numpy\n",
    "import numpy as np\n",
    "from scipy.stats import binom"
   ]
  },
  {
   "cell_type": "code",
   "execution_count": 56,
   "metadata": {},
   "outputs": [],
   "source": [
    "#Payoff functions\n",
    "def callPayoff(spot,strike):\n",
    "    return np.maximum(spot-strike,0.0)\n",
    "\n",
    "def putPayoff(spot,strike):\n",
    "    return np.maximum(strike-spot,0.0)"
   ]
  },
  {
   "cell_type": "code",
   "execution_count": 57,
   "metadata": {},
   "outputs": [],
   "source": [
    "#European Binomial Option Pricer\n",
    "\n",
    "def eurBinPricer(S, K, r, v, q, T, n, payoff, verbose = True):\n",
    "    nodes=n+1\n",
    "    h=T/n\n",
    "    u=np.exp((r-q)*h+v*np.sqrt(h))\n",
    "    d=np.exp((r-q)*h-v*np.sqrt(h))\n",
    "    pu=(np.exp((r-q)*h)-d)/(u-d)\n",
    "    pd=1.0-pu\n",
    "    disc=np.exp(-r*h)\n",
    "    \n",
    "    Ct=np.empty(nodes)\n",
    "    St=np.empty(nodes)\n",
    "    \n",
    "    for i in range(nodes):\n",
    "        St[i]=S*(u**(n-i))*(d**i)\n",
    "        Ct[i]=payoff(St[i], K)\n",
    "    \n",
    "    for t in range((n-1),-1,-1):\n",
    "        for j in range(t+1):\n",
    "            Ct[j]=disc*(pu*Ct[j]+pd*Ct[j+1])\n",
    "    \n",
    "    return Ct[0]"
   ]
  },
  {
   "cell_type": "code",
   "execution_count": 23,
   "metadata": {},
   "outputs": [],
   "source": [
    "## European Pricer with Delta, B, Premium\n",
    "\n",
    "def eurGiven(S, K, r, q, T, n, u, d, payoff, verbose = True):\n",
    "    nodes=n+1\n",
    "    h=T/n\n",
    "    pu=(np.exp((r-q)*h)-d)/(u-d)\n",
    "    pd=1.0-pu\n",
    "    disc=np.exp(-r*h)\n",
    "    \n",
    "    Ct=np.zeros((nodes,n+1))\n",
    "    St=np.zeros((nodes,n+1))\n",
    "    Dt=np.zeros((nodes,n+1))\n",
    "    Bt=np.zeros((nodes,n+1))\n",
    "    \n",
    "    for i in range(nodes):\n",
    "        St[i,n]=S*(u**(n-i))*(d**i)\n",
    "        Ct[i,n]=payoff(St[i,n],K)    \n",
    "\n",
    "    for t in range((n-1),-1,-1):\n",
    "        for j in range(t+1):\n",
    "            St[j,t]=St[j,t+1]/u\n",
    "            Ct[j,t]=disc*((pu*Ct[j,t+1])+(pd*Ct[j+1,t+1]))\n",
    "            Dt[j,t]=np.exp(-q*h)*(Ct[j,t+1]-Ct[j+1,t+1])/(St[j,t]*(u-d))\n",
    "            Bt[j,t]=Ct[j,t]-(Dt[j,t]*St[j,t])\n",
    "    \n",
    "    return Dt,Bt,Ct"
   ]
  },
  {
   "cell_type": "code",
   "execution_count": 25,
   "metadata": {},
   "outputs": [],
   "source": [
    "#American Binomial Option Pricer\n",
    "\n",
    "def amerBinPricer(S, K, r, v, q, T, n, payoff, verbose = True):\n",
    "    nodes=n+1\n",
    "    h=T/n\n",
    "    u=np.exp((r-q)*h+v*np.sqrt(h))\n",
    "    d=np.exp((r-q)*h-v*np.sqrt(h))\n",
    "    pu=(np.exp((r-q)*h)-d)/(u-d)\n",
    "    pd=1.0-pu\n",
    "    disc=np.exp(-r*h)\n",
    "    \n",
    "    Ct=np.empty(nodes)\n",
    "    St=np.empty(nodes)\n",
    "    \n",
    "    for i in range(nodes):\n",
    "        St[i]=S*(u**(n-i))*(d**i)\n",
    "        Ct[i]=payoff(St[i],K)\n",
    "    \n",
    "    for t in range((n-1),-1,-1):\n",
    "        for j in range(t):\n",
    "            Ct[j]=disc*(pu*Ct[j]+pd*Ct[j+1])\n",
    "            St[j]=St[j]/u\n",
    "            earlyPay=K-St[j]\n",
    "            Ct[j]=np.maximum(Ct[j],earlyPay)\n",
    "    \n",
    "    return Ct[0]"
   ]
  },
  {
   "cell_type": "markdown",
   "metadata": {},
   "source": [
    "#### Problem 1\n",
    "##### S=100, K=105, r=0.08, T=0.5, q=0, n=1, u=1.3, d=0.8"
   ]
  },
  {
   "cell_type": "code",
   "execution_count": 15,
   "metadata": {},
   "outputs": [
    {
     "data": {
      "text/plain": [
       "(array([[0.50, 0.00],\n",
       "        [0.00, 0.00]]), array([[-38.43, 0.00],\n",
       "        [0.00, 0.00]]), array([[11.57, 25.00],\n",
       "        [0.00, 0.00]]))"
      ]
     },
     "execution_count": 15,
     "metadata": {},
     "output_type": "execute_result"
    }
   ],
   "source": [
    "eurGiven(100,105,0.08,0,0.5,1,1.3,0.8,callPayoff,verbose=False)"
   ]
  },
  {
   "cell_type": "markdown",
   "metadata": {},
   "source": [
    "Delta = 0.5; B = -38.43; Premium = 11.57"
   ]
  },
  {
   "cell_type": "code",
   "execution_count": 14,
   "metadata": {},
   "outputs": [
    {
     "data": {
      "text/plain": [
       "(array([[-0.50, 0.00],\n",
       "        [0.00, 0.00]]), array([[62.45, 0.00],\n",
       "        [0.00, 0.00]]), array([[12.45, 0.00],\n",
       "        [0.00, 25.00]]))"
      ]
     },
     "execution_count": 14,
     "metadata": {},
     "output_type": "execute_result"
    }
   ],
   "source": [
    "eurGiven(100,105,0.08,0,0.5,1,1.3,0.8,putPayoff,verbose=False)"
   ]
  },
  {
   "cell_type": "markdown",
   "metadata": {},
   "source": [
    "Delta = -0.5; B = 62.45; Premium = 12.45"
   ]
  },
  {
   "cell_type": "markdown",
   "metadata": {},
   "source": [
    "#### Problem 2\n",
    "##### S=100, K=95, r=0.08, T=0.5, q=0, n=1, u=1.3, d=0.8"
   ]
  },
  {
   "cell_type": "code",
   "execution_count": 18,
   "metadata": {},
   "outputs": [
    {
     "data": {
      "text/plain": [
       "(array([[-0.30, 0.00],\n",
       "        [0.00, 0.00]]), array([[37.47, 0.00],\n",
       "        [0.00, 0.00]]), array([[7.47, 0.00],\n",
       "        [0.00, 15.00]]))"
      ]
     },
     "execution_count": 18,
     "metadata": {},
     "output_type": "execute_result"
    }
   ],
   "source": [
    "eurGiven(100,95,0.08,0,0.5,1,1.3,0.8,putPayoff,verbose=False)"
   ]
  },
  {
   "cell_type": "markdown",
   "metadata": {},
   "source": [
    "The price of the European put is $7.471."
   ]
  },
  {
   "cell_type": "code",
   "execution_count": 19,
   "metadata": {},
   "outputs": [
    {
     "data": {
      "text/plain": [
       "(array([[0.70, 0.00],\n",
       "        [0.00, 0.00]]), array([[-53.80, 0.00],\n",
       "        [0.00, 0.00]]), array([[16.20, 35.00],\n",
       "        [0.00, 0.00]]))"
      ]
     },
     "execution_count": 19,
     "metadata": {},
     "output_type": "execute_result"
    }
   ],
   "source": [
    "eurGiven(100,95,0.08,0,0.5,1,1.3,0.8,callPayoff,verbose=False)"
   ]
  },
  {
   "cell_type": "markdown",
   "metadata": {},
   "source": [
    "The fair price of the European call is $16.196."
   ]
  },
  {
   "cell_type": "markdown",
   "metadata": {},
   "source": [
    "At 17, the option is overvalued. The arbitrage includes borrowing 53.804 and buying 0.7 shares. Sell a call option. Arbitrage profit is 17-16.196=0.804.\n",
    "\n",
    "At 15.5, the option is undervalued. The arbitrage includes buying a call option. Lend 53.804 and sell 0.7 shares. Arbitrage profit is 16.196-15.5=0.696."
   ]
  },
  {
   "cell_type": "markdown",
   "metadata": {},
   "source": [
    "#### Problem 3\n",
    "##### S=100, K=95, r=0.08, T=1, q=0, u=1.3, d=0.8, n=2"
   ]
  },
  {
   "cell_type": "code",
   "execution_count": 26,
   "metadata": {},
   "outputs": [
    {
     "data": {
      "text/plain": [
       "(array([[0.69, 1.00, 0.00],\n",
       "        [0.00, 0.23, 0.00],\n",
       "        [0.00, 0.00, 0.00]]), array([[-49.13, -91.27, 0.00],\n",
       "        [0.00, -13.84, 0.00],\n",
       "        [0.00, 0.00, 0.00]]), array([[19.99, 38.73, 74.00],\n",
       "        [0.00, 4.16, 9.00],\n",
       "        [0.00, 0.00, 0.00]]))"
      ]
     },
     "execution_count": 26,
     "metadata": {},
     "output_type": "execute_result"
    }
   ],
   "source": [
    "eurGiven(100,95,0.08,0,1,2,1.3,0.8,callPayoff,verbose=False)"
   ]
  },
  {
   "cell_type": "markdown",
   "metadata": {},
   "source": [
    "Let Su indicate the spot price node after two up movements, Sd after two down movements.\n",
    "\n",
    "Su has Delta = 1.0; B = -91.27; Premium = 38.73\n",
    "\n",
    "Sd has Delta = 0.225; B = -13.84; Premium = 4.16\n",
    "\n",
    "S0 has Delta = 0.69; B = -49.13; Premium = 19.99"
   ]
  },
  {
   "cell_type": "markdown",
   "metadata": {},
   "source": [
    "#### Problem 4\n",
    "##### Repeat the option price calculation in the previous question for stock prices of 80, 90, 110, 120, and 130 with n=3. What happens to the initial option delta as the stock price increases?"
   ]
  },
  {
   "cell_type": "code",
   "execution_count": 29,
   "metadata": {},
   "outputs": [
    {
     "data": {
      "text/plain": [
       "(array([[0.47, 0.77, 0.00],\n",
       "        [0.00, 0.00, 0.00],\n",
       "        [0.00, 0.00, 0.00]]), array([[-28.60, -61.80, 0.00],\n",
       "        [0.00, 0.00, 0.00],\n",
       "        [0.00, 0.00, 0.00]]), array([[8.61, 18.60, 40.20],\n",
       "        [0.00, 0.00, 0.00],\n",
       "        [0.00, 0.00, 0.00]]))"
      ]
     },
     "execution_count": 29,
     "metadata": {},
     "output_type": "execute_result"
    }
   ],
   "source": [
    "eurGiven(80,95,0.08,0,1,2,1.3,0.8,callPayoff,verbose=False)"
   ]
  },
  {
   "cell_type": "code",
   "execution_count": 30,
   "metadata": {},
   "outputs": [
    {
     "data": {
      "text/plain": [
       "(array([[0.59, 0.98, 0.00],\n",
       "        [0.00, 0.00, 0.00],\n",
       "        [0.00, 0.00, 0.00]]), array([[-40.62, -87.78, 0.00],\n",
       "        [0.00, 0.00, 0.00],\n",
       "        [0.00, 0.00, 0.00]]), array([[12.23, 26.42, 57.10],\n",
       "        [0.00, 0.00, 0.00],\n",
       "        [0.00, 0.00, 0.00]]))"
      ]
     },
     "execution_count": 30,
     "metadata": {},
     "output_type": "execute_result"
    }
   ],
   "source": [
    "eurGiven(90,95,0.08,0,1,2,1.3,0.8,callPayoff,verbose=False)"
   ]
  },
  {
   "cell_type": "code",
   "execution_count": 32,
   "metadata": {},
   "outputs": [
    {
     "data": {
      "text/plain": [
       "(array([[0.78, 1.00, 0.00],\n",
       "        [0.00, 0.44, 0.00],\n",
       "        [0.00, 0.00, 0.00]]), array([[-57.09, -91.27, 0.00],\n",
       "        [0.00, -29.82, 0.00],\n",
       "        [0.00, 0.00, 0.00]]), array([[28.41, 51.73, 90.90],\n",
       "        [0.00, 8.98, 19.40],\n",
       "        [0.00, 0.00, 0.00]]))"
      ]
     },
     "execution_count": 32,
     "metadata": {},
     "output_type": "execute_result"
    }
   ],
   "source": [
    "eurGiven(110,95,0.08,0,1,2,1.3,0.8,callPayoff,verbose=False)"
   ]
  },
  {
   "cell_type": "code",
   "execution_count": 33,
   "metadata": {},
   "outputs": [
    {
     "data": {
      "text/plain": [
       "(array([[0.85, 1.00, 0.00],\n",
       "        [0.00, 0.62, 0.00],\n",
       "        [0.00, 0.00, 0.00]]), array([[-65.05, -91.27, 0.00],\n",
       "        [0.00, -45.81, 0.00],\n",
       "        [0.00, 0.00, 0.00]]), array([[36.82, 64.73, 107.80],\n",
       "        [0.00, 13.79, 29.80],\n",
       "        [0.00, 0.00, 0.00]]))"
      ]
     },
     "execution_count": 33,
     "metadata": {},
     "output_type": "execute_result"
    }
   ],
   "source": [
    "eurGiven(120,95,0.08,0,1,2,1.3,0.8,callPayoff,verbose=False)"
   ]
  },
  {
   "cell_type": "code",
   "execution_count": 34,
   "metadata": {},
   "outputs": [
    {
     "data": {
      "text/plain": [
       "(array([[0.91, 1.00, 0.00],\n",
       "        [0.00, 0.77, 0.00],\n",
       "        [0.00, 0.00, 0.00]]), array([[-73.01, -91.27, 0.00],\n",
       "        [0.00, -61.80, 0.00],\n",
       "        [0.00, 0.00, 0.00]]), array([[45.23, 77.73, 124.70],\n",
       "        [0.00, 18.60, 40.20],\n",
       "        [0.00, 0.00, 0.00]]))"
      ]
     },
     "execution_count": 34,
     "metadata": {},
     "output_type": "execute_result"
    }
   ],
   "source": [
    "eurGiven(130,95,0.08,0,1,2,1.3,0.8,callPayoff,verbose=False)"
   ]
  },
  {
   "cell_type": "markdown",
   "metadata": {},
   "source": [
    "The initial delta option is converging to 1. It begins increasing toward 1 at a fast rate and then begins to slow as the spot price surpasses the strike price. As the stock price increases for a call option, the option is more likely to be exercised, meaning the option will simply be held to maturity."
   ]
  },
  {
   "cell_type": "markdown",
   "metadata": {},
   "source": [
    "#### Problem 5\n",
    "##### S=100, K=95, r=0.08, v=0.30, q=0, T=1, n=3"
   ]
  },
  {
   "cell_type": "code",
   "execution_count": 65,
   "metadata": {},
   "outputs": [
    {
     "data": {
      "text/plain": [
       "18.28255220737056"
      ]
     },
     "execution_count": 65,
     "metadata": {},
     "output_type": "execute_result"
    }
   ],
   "source": [
    "eurBinPricer(100,95,0.08,0.3,0,1,3,callPayoff,verbose=False)"
   ]
  },
  {
   "cell_type": "markdown",
   "metadata": {},
   "source": [
    "The premium for an American call option is 18.2826. There is no early exercise. The American call option premium is the same as the European call option premium since dividends are zero."
   ]
  },
  {
   "cell_type": "code",
   "execution_count": 68,
   "metadata": {},
   "outputs": [
    {
     "name": "stdout",
     "output_type": "stream",
     "text": [
      "Premium for the European put is  5.97860511410097\n"
     ]
    }
   ],
   "source": [
    "print(\"Premium for the European put is \",eurBinPricer(100,95,0.08,0.3,0,1,3,putPayoff,verbose=False))"
   ]
  },
  {
   "cell_type": "code",
   "execution_count": 70,
   "metadata": {},
   "outputs": [
    {
     "name": "stdout",
     "output_type": "stream",
     "text": [
      "-12.303994999999999\n",
      "-12.037037037037038\n"
     ]
    }
   ],
   "source": [
    "#Put-call parity: S+p0=c0+(K/(1+r)^t)\n",
    "print(5.978605-18.2826)\n",
    "print((95/((1+0.08)**1))-100)"
   ]
  },
  {
   "cell_type": "markdown",
   "metadata": {},
   "source": [
    "Values differ by about 0.3, or 30 percentage points. Put-call parity appears to hold."
   ]
  },
  {
   "cell_type": "markdown",
   "metadata": {},
   "source": [
    "#### Problem 6\n",
    "##### S=40, K=40, r=0.08, v=0.3, q=0, T=0.5, n=3"
   ]
  },
  {
   "cell_type": "code",
   "execution_count": 54,
   "metadata": {},
   "outputs": [
    {
     "name": "stdout",
     "output_type": "stream",
     "text": [
      "u =  1.1454617381452392\n",
      "d =  0.8966038495199921\n"
     ]
    }
   ],
   "source": [
    "print(\"u = \", np.exp((0.08 - 0) * (0.5/3) + 0.3 * np.sqrt(0.5/3)))\n",
    "print(\"d = \", np.exp((0.08 - 0) * (0.5/3) - 0.3 * np.sqrt(0.5/3)))"
   ]
  },
  {
   "cell_type": "code",
   "execution_count": 75,
   "metadata": {},
   "outputs": [
    {
     "name": "stdout",
     "output_type": "stream",
     "text": [
      "Premium for the European call is  4.377429513517246\n"
     ]
    }
   ],
   "source": [
    "print(\"Premium for the European call is \",eurBinPricer(40,40,0.08,0.3,0,0.5,3,callPayoff,verbose=False))"
   ]
  },
  {
   "cell_type": "code",
   "execution_count": 76,
   "metadata": {},
   "outputs": [
    {
     "name": "stdout",
     "output_type": "stream",
     "text": [
      "Premium for the European put is  2.8090070796101805\n"
     ]
    }
   ],
   "source": [
    "print(\"Premium for the European put is \",eurBinPricer(40,40,0.08,0.3,0,0.5,3,putPayoff,verbose=False))"
   ]
  },
  {
   "cell_type": "code",
   "execution_count": 79,
   "metadata": {},
   "outputs": [
    {
     "name": "stdout",
     "output_type": "stream",
     "text": [
      "Premium for the American put is  0.8679901896366252\n"
     ]
    }
   ],
   "source": [
    "print(\"Premium for the American put is \",amerBinPricer(40,40,0.08,0.3,0,0.5,3,putPayoff,verbose=False))"
   ]
  },
  {
   "cell_type": "markdown",
   "metadata": {},
   "source": [
    "The premium for the American call is 4.3774, the same as the European call since dividends are zero."
   ]
  }
 ],
 "metadata": {
  "kernelspec": {
   "display_name": "Python 3",
   "language": "python",
   "name": "python3"
  },
  "language_info": {
   "codemirror_mode": {
    "name": "ipython",
    "version": 3
   },
   "file_extension": ".py",
   "mimetype": "text/x-python",
   "name": "python",
   "nbconvert_exporter": "python",
   "pygments_lexer": "ipython3",
   "version": "3.6.5"
  }
 },
 "nbformat": 4,
 "nbformat_minor": 2
}
