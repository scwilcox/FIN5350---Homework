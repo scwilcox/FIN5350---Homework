{
 "cells": [
  {
   "cell_type": "markdown",
   "metadata": {},
   "source": [
    "##### __Problem 1__\n",
    " \n",
    "Let K = \\$40.0$, $r = 8$, $\\sigma = 30\\%$, $T = 1.0$, and $\\delta = 0.0$. \n",
    "\n",
    "a. Write Python functions for delta, gamma, vega, theta and rho for European call and put options under the BSM model.\n",
    "\n",
    "b. Calculate and plot delta, gamma, vega, theta, and rho for a call option for a range of time $T$ stock prices ($S_{T}$) ranging from $\\$0.0$ to $\\$80.0$.\n",
    "\n",
    "c. Repeat the above for a put option."
   ]
  },
  {
   "cell_type": "code",
   "execution_count": 16,
   "metadata": {},
   "outputs": [],
   "source": [
    "import numpy as np\n",
    "from scipy.stats import norm\n",
    "%matplotlib inline\n",
    "import matplotlib.pyplot as plt"
   ]
  },
  {
   "cell_type": "code",
   "execution_count": 1,
   "metadata": {},
   "outputs": [],
   "source": [
    "##data from question\n",
    "strike = 40.0\n",
    "vol = 0.30\n",
    "rate = 0.08\n",
    "tau = 1\n",
    "div = 0.0"
   ]
  },
  {
   "cell_type": "code",
   "execution_count": 2,
   "metadata": {},
   "outputs": [],
   "source": [
    "##bsm call pricer\n",
    "def blackScholesCall(spot, strike, vol, rate, tau, div):\n",
    "    d1 = (np.log(spot/strike)+(rate-div+0.5*vol*vol)*tau)/(vol*np.sqrt(tau))\n",
    "    d2 = d1-(vol*np.sqrt(tau))\n",
    "    callPrc = (spot*np.exp(-div*tau)*norm.cdf(d1))-(strike*np.exp(-rate*tau)*norm.cdf(d2))\n",
    "    \n",
    "    return callPrc"
   ]
  },
  {
   "cell_type": "code",
   "execution_count": 3,
   "metadata": {},
   "outputs": [],
   "source": [
    "##calculate delta\n",
    "def bsmCallDelta(spot, strike, vol, rate, tau, div):\n",
    "    d1 = (np.log(spot/strike)+(rate-div+0.5*vol*vol)*tau)/(vol*np.sqrt(tau))\n",
    "    d2 = d1-(vol*np.sqrt(tau))\n",
    "    cDelta = np.exp(-div*tau)*norm.cdf(d1)\n",
    "    \n",
    "    return cDelta\n",
    "\n",
    "def bsmPutDelta(spot, strike, vol, rate, tau, div):\n",
    "    d1 = (np.log(spot/strike)+(rate-div+0.5*vol*vol)*tau)/(vol*np.sqrt(tau))\n",
    "    d2 = d1-(vol*np.sqrt(tau))\n",
    "    pDelta = np.exp(-div*tau)*norm.cdf(-d1)\n",
    "\n",
    "    return pDelta"
   ]
  },
  {
   "cell_type": "code",
   "execution_count": 4,
   "metadata": {},
   "outputs": [],
   "source": [
    "##calculate gamma\n",
    "def bsmGamma(spot, strike, vol, rate, tau, div):\n",
    "    d1 = (np.log(spot/strike)+(rate-div+0.5*vol*vol)*tau)/(vol*np.sqrt(tau))\n",
    "    d2 = d1-(vol*np.sqrt(tau))\n",
    "    gamma = (np.exp(-div*tau)/(spot*vol*np.sqrt(tau)))*norm.pdf(d1)\n",
    "    \n",
    "    return gamma"
   ]
  },
  {
   "cell_type": "code",
   "execution_count": 5,
   "metadata": {},
   "outputs": [],
   "source": [
    "##calculate theta\n",
    "def bsmCallTheta(spot, strike, vol, rate, tau, div):\n",
    "    d1 = (np.log(spot/strike)+(rate-div+0.5*vol*vol)*tau)/(vol*np.sqrt(tau))\n",
    "    d2 = d1-(vol*np.sqrt(tau))\n",
    "    cTheta = (div*spot**(-div*tau))*norm.cdf(d1)-(rate*strike*np.exp(-rate*tau))*norm.cdf(d2)-(((vol*strike*np.exp(-rate*tau))/(2*np.sqrt(tau)))*norm.pdf(d2))\n",
    "    \n",
    "    return cTheta\n",
    "\n",
    "def bsmPutTheta(spot, strike, vol, rate, tau, div):\n",
    "    d1 = (np.log(spot/strike)+(rate-div+0.5*vol*vol)*tau)/(vol*np.sqrt(tau))\n",
    "    d2 = d1-(vol*np.sqrt(tau))\n",
    "    cTheta = (div*norm.cdf(d1)*spot**(-div*tau))-(rate*strike*norm.cdf(d2)*np.exp(-rate*tau))-(((vol*strike*np.exp(-rate*tau))/(2*np.sqrt(tau)))*norm.pdf(d2))\n",
    "    pTheta = cTheta+(rate*strike*np.exp(-rate*tau))-(div*spot*np.exp(-div*tau))\n",
    "    \n",
    "    return pTheta"
   ]
  },
  {
   "cell_type": "code",
   "execution_count": 6,
   "metadata": {},
   "outputs": [],
   "source": [
    "##calculate vega\n",
    "def bsmVega(spot, strike, vol, rate, tau, div):\n",
    "    d1 = (np.log(spot/strike)+(rate-div+0.5*vol*vol)*tau)/(vol*np.sqrt(tau))\n",
    "    d2 = d1-(vol*np.sqrt(tau))\n",
    "    vega = spot*np.exp(-div*tau)*np.sqrt(tau)*norm.pdf(d1)\n",
    "    \n",
    "    return vega"
   ]
  },
  {
   "cell_type": "code",
   "execution_count": 7,
   "metadata": {},
   "outputs": [],
   "source": [
    "##calculate rho\n",
    "def bsmCallRho(spot, strike, vol, rate, tau, div):\n",
    "    d1 = (np.log(spot/strike)+(rate-div+0.5*vol*vol)*tau)/(vol*np.sqrt(tau))\n",
    "    d2 = d1-(vol*np.sqrt(tau))\n",
    "    cRho = tau*strike*np.exp(-rate*tau)*norm.cdf(d2)\n",
    "    \n",
    "    return cRho\n",
    "\n",
    "def bsmPutRho(spot, strike, vol, rate, tau, div):\n",
    "    d1 = (np.log(spot/strike)+(rate-div+0.5*vol*vol)*tau)/(vol*np.sqrt(tau))\n",
    "    d2 = d1-(vol*np.sqrt(tau))\n",
    "    pRho = tau*strike*np.exp(-rate*tau)*norm.cdf(-d2)\n",
    "    \n",
    "    return pRho"
   ]
  },
  {
   "cell_type": "code",
   "execution_count": 18,
   "metadata": {},
   "outputs": [
    {
     "name": "stderr",
     "output_type": "stream",
     "text": [
      "/anaconda3/lib/python3.6/site-packages/ipykernel_launcher.py:3: RuntimeWarning: divide by zero encountered in log\n",
      "  This is separate from the ipykernel package so we can avoid doing imports until\n",
      "/anaconda3/lib/python3.6/site-packages/ipykernel_launcher.py:5: RuntimeWarning: divide by zero encountered in double_scalars\n",
      "  \"\"\"\n",
      "/anaconda3/lib/python3.6/site-packages/ipykernel_launcher.py:5: RuntimeWarning: invalid value encountered in double_scalars\n",
      "  \"\"\"\n"
     ]
    },
    {
     "data": {
      "text/plain": [
       "<function matplotlib.pyplot.show(*args, **kw)>"
      ]
     },
     "execution_count": 18,
     "metadata": {},
     "output_type": "execute_result"
    },
    {
     "data": {
      "image/png": "[encoded data removed]",
      "text/plain": [
       "<Figure size 432x288 with 1 Axes>"
      ]
     },
     "metadata": {},
     "output_type": "display_data"
    }
   ],
   "source": [
    "#call greeks\n",
    "\n",
    "call_deltas= np.empty(81)\n",
    "call_gammas= np.empty(81)\n",
    "call_thetas= np.empty(81)\n",
    "call_vegas= np.empty(81)\n",
    "call_rhos= np.empty(81)\n",
    "\n",
    "for i in range(81):\n",
    "    call_deltas[i] = bsmCallDelta(i, strike, vol, rate, tau, div)\n",
    "    call_gammas[i] = bsmGamma(i, strike, vol, rate, tau, div)\n",
    "    call_thetas[i] = bsmCallTheta(i, strike, vol, rate, tau, div)\n",
    "    call_vegas[i] = bsmVega(i, strike, vol, rate, tau, div)\n",
    "    call_rhos[i] = bsmCallRho(i, strike, vol, rate, tau, div)\n",
    "    \n",
    "plt.plot(call_deltas)\n",
    "plt.show\n",
    "\n",
    "plt.plot(call_gammas)\n",
    "plt.show\n",
    "\n",
    "plt.plot(call_thetas)\n",
    "plt.show\n",
    "\n",
    "plt.plot(call_vegas)\n",
    "plt.show\n",
    "\n",
    "plt.plot(call_rhos)\n",
    "plt.show"
   ]
  },
  {
   "cell_type": "code",
   "execution_count": 19,
   "metadata": {},
   "outputs": [
    {
     "name": "stderr",
     "output_type": "stream",
     "text": [
      "/anaconda3/lib/python3.6/site-packages/ipykernel_launcher.py:10: RuntimeWarning: divide by zero encountered in log\n",
      "  # Remove the CWD from sys.path while we load stuff.\n",
      "/anaconda3/lib/python3.6/site-packages/ipykernel_launcher.py:3: RuntimeWarning: divide by zero encountered in log\n",
      "  This is separate from the ipykernel package so we can avoid doing imports until\n",
      "/anaconda3/lib/python3.6/site-packages/ipykernel_launcher.py:5: RuntimeWarning: divide by zero encountered in double_scalars\n",
      "  \"\"\"\n",
      "/anaconda3/lib/python3.6/site-packages/ipykernel_launcher.py:5: RuntimeWarning: invalid value encountered in double_scalars\n",
      "  \"\"\"\n"
     ]
    },
    {
     "data": {
      "text/plain": [
       "<function matplotlib.pyplot.show(*args, **kw)>"
      ]
     },
     "execution_count": 19,
     "metadata": {},
     "output_type": "execute_result"
    },
    {
     "data": {
      "image/png": "[encoded data removed]",
      "text/plain": [
       "<Figure size 432x288 with 1 Axes>"
      ]
     },
     "metadata": {},
     "output_type": "display_data"
    }
   ],
   "source": [
    "###put greeks\n",
    "\n",
    "put_deltas= np.empty(81)\n",
    "put_gammas= np.empty(81)\n",
    "put_thetas= np.empty(81)\n",
    "put_vegas= np.empty(81)\n",
    "put_rhos= np.empty(81)\n",
    "\n",
    "for i in range(81):\n",
    "    put_deltas[i] = bsmPutDelta(i, strike, vol, rate, tau, div)\n",
    "    put_gammas[i] = bsmGamma(i, strike, vol, rate, tau, div)\n",
    "    put_thetas[i] = bsmPutTheta(i, strike, vol, rate, tau, div)\n",
    "    put_vegas[i] = bsmVega(i, strike, vol, rate, tau, div)\n",
    "    put_rhos[i] = bsmPutRho(i, strike, vol, rate, tau, div)\n",
    "    \n",
    "plt.plot(put_deltas)\n",
    "plt.show\n",
    "\n",
    "plt.plot(put_gammas)\n",
    "plt.show\n",
    "\n",
    "plt.plot(put_thetas)\n",
    "plt.show\n",
    "\n",
    "plt.plot(put_vegas)\n",
    "plt.show\n",
    "\n",
    "plt.plot(put_rhos)\n",
    "plt.show"
   ]
  },
  {
   "cell_type": "markdown",
   "metadata": {},
   "source": [
    "##### __Problem 2__\n",
    "\n",
    "Using the same basic data above, plus an initial stock price of $S_{0} = \\$41.0$ simulate five daily prices (sequentially), using the following:\n",
    "\n",
    "S_{t+h} = S_{t} \\exp{\\{(r - \\delta - \\frac{1}{2} \\sigma^{2}) h + \\sigma \\sqrt{h} Z \\}}\n",
    "\n",
    "where $Z$ is a draw from a standard normal distribution. This can be done in \\texttt{Python} as follows (for a single draw):\n",
    "\n",
    "```{python}\n",
    "import numpy as np\n",
    "z = np.random.normal(size=1)\n",
    "```\n",
    "\n",
    "See Chapter 19 in the McDonald text for additional guidance on the simulation. Once you have the five simulated daily prices construct a table for delta-hedging similar to table 13.2 (page 420 2nd edition, page 387 3rd edition) of the McDonald textbook. Be sure to set $h$ to equal a day (i.e. $h = 1/252$). "
   ]
  },
  {
   "cell_type": "code",
   "execution_count": 23,
   "metadata": {},
   "outputs": [],
   "source": [
    "def plotPricePath(path):\n",
    "    nsteps = path.shape[0]\n",
    "    plt.plot(path, 'b', linewidth = 2.5)\n",
    "    plt.xlim((0, nsteps - 1))\n",
    "    plt.grid(True)\n",
    "    plt.show()"
   ]
  },
  {
   "cell_type": "code",
   "execution_count": 27,
   "metadata": {},
   "outputs": [],
   "source": [
    "##data from question\n",
    "spot = 41.0\n",
    "strike = 40.0\n",
    "vol = 0.30\n",
    "rate = 0.08\n",
    "tau = 1/252\n",
    "div = 0.0"
   ]
  },
  {
   "cell_type": "code",
   "execution_count": 31,
   "metadata": {},
   "outputs": [
    {
     "data": {
      "image/png": "[encoded data removed]",
      "text/plain": [
       "<Figure size 432x288 with 1 Axes>"
      ]
     },
     "metadata": {},
     "output_type": "display_data"
    }
   ],
   "source": [
    "n=6\n",
    "path=np.zeros(n)\n",
    "z=np.random.normal(size=n)\n",
    "path[0]=spot\n",
    "for t in range(1,n):\n",
    "    path[t] = path[t-1] * np.exp((rate - div - 0.5 * vol * vol) * tau * vol * np.sqrt(tau) * z[t])\n",
    "plotPricePath(path)"
   ]
  },
  {
   "cell_type": "code",
   "execution_count": null,
   "metadata": {},
   "outputs": [],
   "source": []
  }
 ],
 "metadata": {
  "kernelspec": {
   "display_name": "Python 3",
   "language": "python",
   "name": "python3"
  },
  "language_info": {
   "codemirror_mode": {
    "name": "ipython",
    "version": 3
   },
   "file_extension": ".py",
   "mimetype": "text/x-python",
   "name": "python",
   "nbconvert_exporter": "python",
   "pygments_lexer": "ipython3",
   "version": "3.6.5"
  }
 },
 "nbformat": 4,
 "nbformat_minor": 2
}
